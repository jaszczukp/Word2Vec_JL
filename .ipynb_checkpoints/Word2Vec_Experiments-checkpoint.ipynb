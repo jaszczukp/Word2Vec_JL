{
 "cells": [
  {
   "cell_type": "code",
   "execution_count": 1,
   "id": "d62e7f15",
   "metadata": {},
   "outputs": [
    {
     "name": "stderr",
     "output_type": "stream",
     "text": [
      "\u001b[32m\u001b[1m  Activating\u001b[22m\u001b[39m project at `C:\\Users\\pauli\\OneDrive\\Pulpit\\mgr implementacja\\Word2Vec_JL`\n"
     ]
    }
   ],
   "source": [
    "# --- Komórka 1: Ładowanie pakietów i inicjalizacja ---\n",
    "using Pkg\n",
    "Pkg.activate(\".\")  # aktywuj lokalne środowisko, lub podaj ścieżkę\n",
    "using Word2Vec_JL \n",
    "using Random\n",
    "using Statistics\n",
    "using LinearAlgebra"
   ]
  },
  {
   "cell_type": "code",
   "execution_count": 2,
   "id": "6a80c6e2",
   "metadata": {},
   "outputs": [
    {
     "name": "stdout",
     "output_type": "stream",
     "text": [
      "typeof(full_text) = String\n",
      "length(full_text) = 2816737\n",
      "full_text[1:300] = \"\\ufeffThe Project Gutenberg eBook of Moby Dick; Or, The Whale\\r\\n    \\r\\nThis ebook is for the use of anyone anywhere in the United States and\\r\\nmost other parts of the world at no cost and with almost no restrictions\\r\\nwhatsoever. You may copy it, give it away or re-use it under the terms\\r\\nof the Project Gu\"\n"
     ]
    },
    {
     "data": {
      "text/plain": [
       "\"\\ufeffThe Project Gutenberg eBook of Moby Dick; Or, The Whale\\r\\n    \\r\\nThis ebook is for the use of anyone anywhere in the United States and\\r\\nmost other parts of the world at no cost and with almost no restrictions\\r\\nwhatsoever. You may copy it, give it away or re-use it under the terms\\r\\nof the Project Gu\""
      ]
     },
     "execution_count": 2,
     "metadata": {},
     "output_type": "execute_result"
    }
   ],
   "source": [
    "# --- Komórka 2: Ładowanie danych ---\n",
    "\n",
    "# Teksty z Project Gutenberg\n",
    "urls = [\n",
    "    \"https://www.gutenberg.org/cache/epub/2701/pg2701.txt\",   # Moby Dick\n",
    "    \"https://www.gutenberg.org/cache/epub/1342/pg1342.txt\",   # Pride and Prejudice\n",
    "    \"https://www.gutenberg.org/cache/epub/98/pg98.txt\"         # A Tale of Two Cities\n",
    "]\n",
    "\n",
    "# Funkcja do pobrania i połączenia tekstów\n",
    "function download_books(urls)\n",
    "    text = \"\"\n",
    "    for url in urls\n",
    "        text *= download(url) |> read |> String\n",
    "    end\n",
    "    return text\n",
    "end\n",
    "\n",
    "full_text = download_books(urls)\n",
    "\n",
    "@show typeof(full_text)\n",
    "@show length(full_text)\n",
    "@show full_text[1:300]  # podgląd pierwszych znaków\n"
   ]
  },
  {
   "cell_type": "code",
   "execution_count": null,
   "id": "d9a19ed3",
   "metadata": {},
   "outputs": [],
   "source": [
    "# --- Komórka 3: Trenowanie modeli ---\n",
    "\n",
    "# Definiujemy parametry\n",
    "window_size = 5\n",
    "min_freq = 5\n",
    "embedding_dim = 100\n",
    "subsampling = true\n",
    "\n",
    "# Trenowanie 4 modeli\n",
    "model_cbow_hs = Word2Vec(embedding_dim; mode=:cbow, loss_type=:hs)\n",
    "train!(model_cbow_hs, full_text;\n",
    "    window_size=window_size,\n",
    "    epochs=50,\n",
    "    min_freq=min_freq,\n",
    "    subsampling=subsampling,\n",
    "    verbose=true)\n",
    "\n",
    "model_cbow_ns = Word2Vec(embedding_dim; mode=:cbow, loss_type=:neg_sampling)\n",
    "train!(model_cbow_ns, full_text;\n",
    "    window_size=window_size,\n",
    "    epochs=50,\n",
    "    min_freq=min_freq,\n",
    "    subsampling=subsampling,\n",
    "    verbose=true)\n",
    "\n",
    "model_sg_hs = Word2Vec(embedding_dim; mode=:skipgram, loss_type=:hs)\n",
    "train!(model_sg_hs, full_text;\n",
    "    window_size=window_size,\n",
    "    epochs=50,\n",
    "    min_freq=min_freq,\n",
    "    subsampling=subsampling,\n",
    "    verbose=true)\n",
    "\n",
    "model_sg_ns = Word2Vec(embedding_dim; mode=:skipgram, loss_type=:neg_sampling)\n",
    "train!(model_sg_ns, full_text;\n",
    "    window_size=window_size,\n",
    "    epochs=50,\n",
    "    min_freq=min_freq,\n",
    "    subsampling=subsampling,\n",
    "    verbose=true)\n"
   ]
  },
  {
   "cell_type": "code",
   "execution_count": null,
   "id": "6c8ee04e",
   "metadata": {},
   "outputs": [],
   "source": []
  }
 ],
 "metadata": {
  "kernelspec": {
   "display_name": "Julia 1.10.2",
   "language": "julia",
   "name": "julia-1.10"
  },
  "language_info": {
   "file_extension": ".jl",
   "mimetype": "application/julia",
   "name": "julia",
   "version": "1.10.2"
  }
 },
 "nbformat": 4,
 "nbformat_minor": 5
}
